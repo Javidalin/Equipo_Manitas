{
 "cells": [
  {
   "cell_type": "code",
   "execution_count": 20,
   "metadata": {},
   "outputs": [],
   "source": [
    "import joblib\n",
    "import os\n",
    "from sklearn.model_selection import train_test_split\n",
    "import numpy as np\n",
    "\n",
    "import cv2\n",
    "\n",
    "from tensorflow.keras.callbacks import EarlyStopping\n",
    "\n"
   ]
  },
  {
   "cell_type": "code",
   "execution_count": 26,
   "metadata": {},
   "outputs": [],
   "source": [
    "model_path = os.path.join(\"../models\", \"random_forest_model_v3.pkl\")\n",
    "\n",
    "loaded_model = joblib.load(model_path)"
   ]
  },
  {
   "cell_type": "code",
   "execution_count": 22,
   "metadata": {},
   "outputs": [],
   "source": [
    "DATASET_PATH = r\"C:\\Users\\javid\\OneDrive\\Escritorio\\Javidev\\DS_Bootcamp\\DS_Online_Octubre24\\05_Deep_Learning\\Sprint_17\\Team_Challenge\\asl_dataset\""
   ]
  },
  {
   "cell_type": "code",
   "execution_count": 23,
   "metadata": {},
   "outputs": [],
   "source": [
    "# Obtener las clases disponibles (carpetas dentro del dataset)\n",
    "clases = sorted(os.listdir(DATASET_PATH))  # ['0', '1', ..., '9', 'A', 'B', ..., 'Z']\n",
    "num_clases = len(clases)\n",
    "\n",
    "X = []\n",
    "y = []\n",
    "\n",
    "# Cargar imágenes y convertirlas a arrays\n",
    "for label, clase in enumerate(clases):\n",
    "    folder_path = os.path.join(DATASET_PATH, clase)\n",
    "    for img_name in os.listdir(folder_path):\n",
    "        img_path = os.path.join(folder_path, img_name)\n",
    "        img = cv2.imread(img_path, cv2.IMREAD_GRAYSCALE)  # Convertimos a escala de grises\n",
    "        img = cv2.resize(img, (64, 64))  # Redimensionamos a 64x64 píxeles\n",
    "        X.append(img.flatten())  # Convertimos la imagen en un vector\n",
    "        y.append(label)  # Guardamos la etiqueta de la clase\n",
    "\n",
    "# Convertir a arrays de numpy\n",
    "X = np.array(X)\n",
    "y = np.array(y)\n",
    "\n",
    "# Mezclar los datos aleatoriamente\n",
    "indices = np.arange(len(X))\n",
    "np.random.shuffle(indices)\n",
    "\n",
    "# Aplicar el desorden a X e y\n",
    "X = X[indices]\n",
    "y = y[indices]\n",
    "\n",
    "# Dividir en train y test\n",
    "X_train, X_test, y_train, y_test = train_test_split(X, y, test_size=0.2, stratify=y, random_state=42)"
   ]
  },
  {
   "cell_type": "code",
   "execution_count": 24,
   "metadata": {},
   "outputs": [],
   "source": [
    "early_stopping = EarlyStopping(monitor='val_loss', patience=5, restore_best_weights=True)\n"
   ]
  },
  {
   "cell_type": "code",
   "execution_count": null,
   "metadata": {},
   "outputs": [
    {
     "name": "stdout",
     "output_type": "stream",
     "text": [
      "Fitting 3 folds for each of 27 candidates, totalling 81 fits\n"
     ]
    }
   ],
   "source": [
    "loaded_model.fit(X_train, y_train)"
   ]
  },
  {
   "cell_type": "code",
   "execution_count": null,
   "metadata": {},
   "outputs": [],
   "source": [
    "import os\n",
    "import random\n",
    "import cv2\n",
    "import matplotlib.pyplot as plt\n",
    "\n",
    "# Ruta al dataset (Cambia esto por la ubicación real de tus imágenes)\n",
    "dataset_path = \"ruta_a_tu_dataset\"\n",
    "\n",
    "# Función para mostrar imágenes de una palabra\n",
    "def mostrar_imagenes_de_palabra(palabra):\n",
    "    palabra = palabra.upper()  # Convertir a mayúsculas\n",
    "    fig, axes = plt.subplots(1, len(palabra), figsize=(len(palabra) * 3, 3))  # Subgráficos\n",
    "\n",
    "    for i, letra in enumerate(palabra):\n",
    "        letra_path = os.path.join(dataset_path, letra)  # Carpeta de la letra\n",
    "\n",
    "        if not os.path.exists(letra_path):\n",
    "            print(f\"No se encontró la carpeta para la letra {letra}\")\n",
    "            continue\n",
    "\n",
    "        imagenes = os.listdir(letra_path)  # Lista de imágenes en la carpeta\n",
    "        if not imagenes:\n",
    "            print(f\"No hay imágenes en la carpeta {letra}\")\n",
    "            continue\n",
    "\n",
    "        imagen_aleatoria = random.choice(imagenes)  # Seleccionar una imagen aleatoria\n",
    "        imagen_path = os.path.join(letra_path, imagen_aleatoria)\n",
    "\n",
    "        # Cargar la imagen\n",
    "        imagen = cv2.imread(imagen_path, cv2.IMREAD_GRAYSCALE)  \n",
    "\n",
    "        # Mostrarla en su subplot\n",
    "        axes[i].imshow(imagen, cmap=\"gray\")\n",
    "        axes[i].set_title(letra)\n",
    "        axes[i].axis(\"off\")\n",
    "\n",
    "    plt.show()\n",
    "\n",
    "# Ejemplo: Mostrar imágenes de la palabra \"HOLA\"\n",
    "mostrar_imagenes_de_palabra(\"HOLA\")"
   ]
  }
 ],
 "metadata": {
  "kernelspec": {
   "display_name": "Python 3",
   "language": "python",
   "name": "python3"
  },
  "language_info": {
   "codemirror_mode": {
    "name": "ipython",
    "version": 3
   },
   "file_extension": ".py",
   "mimetype": "text/x-python",
   "name": "python",
   "nbconvert_exporter": "python",
   "pygments_lexer": "ipython3",
   "version": "3.12.4"
  }
 },
 "nbformat": 4,
 "nbformat_minor": 2
}
